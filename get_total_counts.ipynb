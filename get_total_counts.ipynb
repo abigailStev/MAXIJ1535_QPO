{
 "cells": [
  {
   "cell_type": "code",
   "execution_count": 2,
   "metadata": {
    "collapsed": true
   },
   "outputs": [],
   "source": [
    "from astropy.io import fits\n",
    "import numpy as np\n",
    "import os"
   ]
  },
  {
   "cell_type": "code",
   "execution_count": 7,
   "metadata": {
    "collapsed": true
   },
   "outputs": [],
   "source": [
    "homedir = os.path.expanduser('~')\n",
    "file_list = homedir + \"/Dropbox/Research/MAXIJ1535_B-QPO/bqpo_evtlists.txt\"\n",
    "assert os.path.isfile(file_list)\n",
    "\n",
    "data_files = [line.strip() for line in open(file_list)]\n",
    "if not data_files:  ## If data_files is an empty list\n",
    "    raise Exception(\"ERROR: No files in the list of event lists: \"\\\n",
    "                    \"%s\" % file_list)"
   ]
  },
  {
   "cell_type": "code",
   "execution_count": 12,
   "metadata": {},
   "outputs": [
    {
     "name": "stdout",
     "output_type": "stream",
     "text": [
      "/Users/abigailstevens/Dropbox/maxi_j1535_evtfiles/ni1050360113_0mpu7_cl.evt.gz\n",
      "/Users/abigailstevens/Dropbox/maxi_j1535_evtfiles/ni1050360114_0mpu7_cl.evt.gz\n",
      "/Users/abigailstevens/Dropbox/maxi_j1535_evtfiles/ni1050360115_0mpu7_cl.evt.gz\n",
      "/Users/abigailstevens/Dropbox/maxi_j1535_evtfiles/ni1050360116_0mpu7_cl.evt.gz\n",
      "/Users/abigailstevens/Dropbox/maxi_j1535_evtfiles/ni1050360120_0mpu7_cl.evt.gz\n",
      "/Users/abigailstevens/Dropbox/maxi_j1535_evtfiles/ni1050360117_0mpu7_cl.evt.gz\n",
      "/Users/abigailstevens/Dropbox/maxi_j1535_evtfiles/ni1050360118_0mpu7_cl.evt.gz\n",
      "/Users/abigailstevens/Dropbox/maxi_j1535_evtfiles/ni1050360119_0mpu7_cl.evt.gz\n",
      "/Users/abigailstevens/Dropbox/maxi_j1535_evtfiles/ni1130360101_0mpu7_cl.evt.gz\n",
      "/Users/abigailstevens/Dropbox/maxi_j1535_evtfiles/ni1130360102_0mpu7_cl.evt.gz\n",
      "/Users/abigailstevens/Dropbox/maxi_j1535_evtfiles/ni1130360109_0mpu7_cl.evt.gz\n",
      "/Users/abigailstevens/Dropbox/maxi_j1535_evtfiles/ni1130360110_0mpu7_cl.evt.gz\n",
      "/Users/abigailstevens/Dropbox/maxi_j1535_evtfiles/ni1130360111_0mpu7_cl.evt.gz\n",
      "/Users/abigailstevens/Dropbox/maxi_j1535_evtfiles/ni1130360112_0mpu7_cl.evt.gz\n"
     ]
    }
   ],
   "source": [
    "counts = 0\n",
    "exposure = 0\n",
    "for evtfile in data_files:\n",
    "    print(evtfile)\n",
    "    hdulist = fits.open(evtfile, memmap=True)\n",
    "    evtheader = hdulist[1].header\n",
    "    n_events = evtheader['NAXIS2']\n",
    "    len_exposure = evtheader['EXPOSURE']\n",
    "    hdulist.close()\n",
    "    counts += n_events\n",
    "    exposure += len_exposure\n",
    "#     print(header)\n",
    "#     break"
   ]
  },
  {
   "cell_type": "code",
   "execution_count": 13,
   "metadata": {},
   "outputs": [
    {
     "name": "stdout",
     "output_type": "stream",
     "text": [
      "936910259\n",
      "61380.08520922065\n"
     ]
    }
   ],
   "source": [
    "print(counts)\n",
    "print(exposure)"
   ]
  },
  {
   "cell_type": "code",
   "execution_count": null,
   "metadata": {
    "collapsed": true
   },
   "outputs": [],
   "source": []
  }
 ],
 "metadata": {
  "kernelspec": {
   "display_name": "Python [conda env:anaconda3]",
   "language": "python",
   "name": "conda-env-anaconda3-py"
  },
  "language_info": {
   "codemirror_mode": {
    "name": "ipython",
    "version": 3
   },
   "file_extension": ".py",
   "mimetype": "text/x-python",
   "name": "python",
   "nbconvert_exporter": "python",
   "pygments_lexer": "ipython3",
   "version": "3.6.4"
  }
 },
 "nbformat": 4,
 "nbformat_minor": 2
}
